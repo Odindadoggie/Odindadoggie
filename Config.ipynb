import os 
import game
import value
